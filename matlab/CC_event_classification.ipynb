{
 "cells": [
  {
   "cell_type": "code",
   "execution_count": 33,
   "metadata": {
    "collapsed": true
   },
   "outputs": [],
   "source": [
    "from ACDC.random_walk_classifier import * \n",
    "from ACDC.cell_type_annotation import * "
   ]
  },
  {
   "cell_type": "code",
   "execution_count": 34,
   "metadata": {
    "collapsed": false
   },
   "outputs": [],
   "source": [
    "import pandas as pd\n",
    "import numpy as np\n",
    "from collections import Counter\n",
    "import pickle\n",
    "\n",
    "channels = ['pSTAT1','pSRC','pFAK','pMEK','pMAPKAPK2','pSTAT5','pMKK4','pS6K','pp53','pNFKB',\n",
    "            'pp38','pAMPK','pAKT','pERK','cyclinB1','pGSK3B','GAPDH','pMKK3MKK6','pPDK1',\n",
    "            'pBTK','pp90RSK','RAB7','bcatenin','pSTAT3','pJNK','pMARCKS','pPLCG2','pHH3','pS6',\n",
    "            'cleavedPARP','PCNA','ACTIN','pRB','p4EBP1']\n",
    "\n",
    "path = 'data/CC/'\n",
    "\n",
    "df = pd.read_csv(path + 'CC_all.csv.gz', sep=',', header = 0, compression = 'gzip')\n",
    "#df = df[df.cell_type != 'NotGated']\n",
    "\n",
    "\n",
    "table = pd.read_csv(path + 'CC_table.csv', sep=',', header=0, index_col=0)\n",
    "table = table.fillna(0)\n",
    "\n",
    "cts, channels = get_label(table)\n",
    "\n",
    "#X0= np.arcsinh((df[channels].values - 1.0)/5.0)\n",
    "X0= df[channels].values"
   ]
  },
  {
   "cell_type": "code",
   "execution_count": 35,
   "metadata": {
    "collapsed": true
   },
   "outputs": [],
   "source": [
    "idx2ct = [key for idx, key in enumerate(table.index)]\n",
    "#idx2ct.append('unknown')\n",
    "\n",
    "ct2idx = {key:idx for idx, key in enumerate(table.index)}\n",
    "#ct2idx['unknown'] = len(table.index)\n",
    "        \n",
    "ct_score = np.abs(table.as_matrix()).sum(axis = 1)\n",
    "\n",
    "## compute manual gated label\n",
    "y0 = np.zeros(df.cell_type.shape)\n",
    "\n",
    "for i, ct in enumerate(df.cell_type):\n",
    "    if ct in ct2idx:\n",
    "        y0[i] = ct2idx[ct]\n",
    "    #else:\n",
    "        #y0[i] = ct2idx['unknown']"
   ]
  },
  {
   "cell_type": "code",
   "execution_count": 36,
   "metadata": {
    "collapsed": false
   },
   "outputs": [],
   "source": [
    "from sklearn.metrics import accuracy_score, confusion_matrix\n",
    "import phenograph\n",
    "from sklearn.cross_validation import StratifiedKFold\n",
    "\n",
    "n_neighbor = 10\n",
    "thres = 0.5\n"
   ]
  },
  {
   "cell_type": "code",
   "execution_count": 37,
   "metadata": {
    "collapsed": false,
    "scrolled": true
   },
   "outputs": [
    {
     "name": "stdout",
     "output_type": "stream",
     "text": [
      "00 th batch\n",
      "Finding 30 nearest neighbors using minkowski metric and 'auto' algorithm\n",
      "Neighbors computed in 2.8573050498962402 seconds\n",
      "Jaccard graph constructed in 2.5297043323516846 seconds\n",
      "Wrote graph to binary file in 0.7644014358520508 seconds\n",
      "Running Louvain modularity optimization\n",
      "After 1 runs, maximum modularity is Q = 0.759736\n",
      "After 2 runs, maximum modularity is Q = 0.763162\n",
      "After 22 runs, maximum modularity is Q = 0.765205\n",
      "Louvain completed 42 runs in 28.019931316375732 seconds\n",
      "PhenoGraph complete in 34.226642370224 seconds\n",
      "Finding 30 nearest neighbors using minkowski metric and 'auto' algorithm\n",
      "Neighbors computed in 0.4450254440307617 seconds\n",
      "Jaccard graph constructed in 2.0961198806762695 seconds\n",
      "Wrote graph to binary file in 0.2538032531738281 seconds\n",
      "Running Louvain modularity optimization\n",
      "After 1 runs, maximum modularity is Q = 0.649045\n",
      "After 3 runs, maximum modularity is Q = 0.652078\n",
      "After 4 runs, maximum modularity is Q = 0.653475\n",
      "Louvain completed 24 runs in 9.028716325759888 seconds\n",
      "PhenoGraph complete in 11.841665983200073 seconds\n",
      "Finding 30 nearest neighbors using minkowski metric and 'auto' algorithm\n",
      "Neighbors computed in 1.5313026905059814 seconds\n",
      "Jaccard graph constructed in 2.373704195022583 seconds\n",
      "Wrote graph to binary file in 0.7956016063690186 seconds\n",
      "Running Louvain modularity optimization\n",
      "After 1 runs, maximum modularity is Q = 0.819138\n",
      "After 13 runs, maximum modularity is Q = 0.820174\n",
      "Louvain completed 33 runs in 17.794031381607056 seconds\n",
      "PhenoGraph complete in 22.54393982887268 seconds\n",
      "Finding 30 nearest neighbors using minkowski metric and 'auto' algorithm\n",
      "Neighbors computed in 6.180110931396484 seconds\n",
      "Jaccard graph constructed in 3.257305860519409 seconds\n",
      "Wrote graph to binary file in 1.4352023601531982 seconds\n",
      "Running Louvain modularity optimization\n",
      "After 1 runs, maximum modularity is Q = 0.714531\n",
      "Louvain completed 21 runs in 21.917298793792725 seconds\n",
      "PhenoGraph complete in 32.85481810569763 seconds\n",
      "Finding 30 nearest neighbors using minkowski metric and 'auto' algorithm\n",
      "Neighbors computed in 53.51615262031555 seconds\n",
      "Jaccard graph constructed in 7.318912744522095 seconds\n",
      "Wrote graph to binary file in 4.726808309555054 seconds\n",
      "Running Louvain modularity optimization\n",
      "After 1 runs, maximum modularity is Q = 0.850405\n",
      "Louvain completed 21 runs in 88.55075550079346 seconds\n",
      "PhenoGraph complete in 154.33352971076965 seconds\n",
      "01 th batch\n"
     ]
    }
   ],
   "source": [
    "import time\n",
    "import scipy.io as sio \n",
    "\n",
    "skf = StratifiedKFold(y0, n_folds=5, shuffle=True, random_state=0)\n",
    "result = []\n",
    "score_final = []\n",
    "\n",
    "\n",
    "process_time = []\n",
    "c = 0\n",
    "for tr, te in skf:\n",
    "    print('%02d th batch' % c)\n",
    "    if c == 1:\n",
    "        break\n",
    "    c += 1\n",
    "    \n",
    "    X = X0.copy()\n",
    "    y_true = y0.copy()\n",
    "\n",
    "    X = X[tr, :]\n",
    "    y_true = y_true[tr]\n",
    "\n",
    "    mk_model =  compute_marker_model(pd.DataFrame(X, columns = channels), table, 0.0)\n",
    "\n",
    "    ## compute posterior probs\n",
    "    tic = time.clock()\n",
    "    score = get_score_mat(X, [], table, [], mk_model)\n",
    "    score = np.concatenate([score, 1.0 - score.max(axis = 1)[:, np.newaxis]], axis = 1)    \n",
    "\n",
    "    ## get indices     \n",
    "    ct_index = get_unique_index(X, score, table, thres)\n",
    "    \n",
    "    ## baseline - classify events    \n",
    "    y_pred_index = np.argmax(score, axis = 1)\n",
    "    \n",
    "    toc = time.clock()\n",
    "    time0 = toc - tic\n",
    "    \n",
    "    \n",
    "    \n",
    "    ## running ACDC\n",
    "    tic = time.clock()\n",
    "    res_c = get_landmarks(X, score, ct_index, idx2ct, phenograph, thres)\n",
    "\n",
    "    landmark_mat, landmark_label = output_feature_matrix(res_c, [idx2ct[i] for i in range(len(idx2ct))]) \n",
    "\n",
    "    landmark_label = np.array(landmark_label)\n",
    "\n",
    "    lp, y_pred = rm_classify(X, landmark_mat, landmark_label, n_neighbor)\n",
    "\n",
    "    process_time.append(toc-tic)\n",
    "    \n",
    "    res = phenograph.cluster(X, k=30, directed=False, prune=False, min_cluster_size=10, jaccard=True,\n",
    "                        primary_metric='euclidean', n_jobs=-1, q_tol=1e-3)\n",
    "    \n",
    "    toc = time.clock()\n",
    "    time1 = toc - tic\n",
    "    \n",
    "    \n",
    "    ## running phenograph classification\n",
    "    tic = time.clock()\n",
    "    y_pred_oracle = np.zeros_like(y_true)\n",
    "    for i in range(max(res[0])+1):\n",
    "        ic, nc = Counter(y_true[res[0] == i]).most_common(1)[0]\n",
    "        y_pred_oracle[res[0] == i] = ic\n",
    "        \n",
    "    score_final.append([accuracy_score(y_true, [ct2idx[c] for c in y_pred]), \n",
    "                    accuracy_score(y_true, y_pred_index), \n",
    "                    accuracy_score(y_true, y_pred_oracle)])\n",
    "    \n",
    "    toc = time.clock()\n",
    "    time2 = toc - tic   \n",
    "    \n",
    "    \n",
    "    result.append((y_true, y_pred, y_pred_index, y_pred_oracle))\n",
    "    process_time.append((time0, time1, time2))\n",
    "    \n",
    "    #pickle.dump(result, open('processed_file/BMMC/event_classidication_BMMC.p', 'wb'))\n",
    "    sio.savemat('processed_file/CC_ACDC/event_classidication_CC_all_5.mat',{'y_true':y_true,'y_pred_index':y_pred_index,'y_pred_oracle':y_pred_oracle,'X':X})"
   ]
  },
  {
   "cell_type": "code",
   "execution_count": 38,
   "metadata": {
    "collapsed": false
   },
   "outputs": [
    {
     "data": {
      "text/plain": [
       "array([ 0.39371563,  0.41922388,  0.83215112])"
      ]
     },
     "execution_count": 38,
     "metadata": {},
     "output_type": "execute_result"
    }
   ],
   "source": [
    "np.mean(score_final, axis = 0) # score of ACDC, score-based classification, phenograph classification"
   ]
  },
  {
   "cell_type": "code",
   "execution_count": 39,
   "metadata": {
    "collapsed": false
   },
   "outputs": [
    {
     "data": {
      "text/plain": [
       "[[0.39371562514362751, 0.41922387510915693, 0.83215111914574169]]"
      ]
     },
     "execution_count": 39,
     "metadata": {},
     "output_type": "execute_result"
    }
   ],
   "source": [
    "score_final"
   ]
  },
  {
   "cell_type": "code",
   "execution_count": 40,
   "metadata": {
    "collapsed": false
   },
   "outputs": [
    {
     "data": {
      "text/plain": [
       "[-1.9957069525844418e-06,\n",
       " (0.23133750284023336, 661.0744019507747, 0.04922639271080698)]"
      ]
     },
     "execution_count": 40,
     "metadata": {},
     "output_type": "execute_result"
    }
   ],
   "source": [
    "process_time"
   ]
  },
  {
   "cell_type": "code",
   "execution_count": null,
   "metadata": {
    "collapsed": false
   },
   "outputs": [],
   "source": []
  },
  {
   "cell_type": "code",
   "execution_count": null,
   "metadata": {
    "collapsed": false
   },
   "outputs": [],
   "source": []
  },
  {
   "cell_type": "code",
   "execution_count": null,
   "metadata": {
    "collapsed": true
   },
   "outputs": [],
   "source": []
  }
 ],
 "metadata": {
  "anaconda-cloud": {},
  "kernelspec": {
   "display_name": "Python [conda env:Anaconda3]",
   "language": "python",
   "name": "conda-env-Anaconda3-py"
  },
  "language_info": {
   "codemirror_mode": {
    "name": "ipython",
    "version": 3
   },
   "file_extension": ".py",
   "mimetype": "text/x-python",
   "name": "python",
   "nbconvert_exporter": "python",
   "pygments_lexer": "ipython3",
   "version": "3.5.6"
  }
 },
 "nbformat": 4,
 "nbformat_minor": 1
}
