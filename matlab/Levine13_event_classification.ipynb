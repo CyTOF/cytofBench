{
 "cells": [
  {
   "cell_type": "code",
   "execution_count": 33,
   "metadata": {
    "collapsed": true
   },
   "outputs": [],
   "source": [
    "from ACDC.random_walk_classifier import * \n",
    "from ACDC.cell_type_annotation import * "
   ]
  },
  {
   "cell_type": "code",
   "execution_count": 34,
   "metadata": {
    "collapsed": false
   },
   "outputs": [],
   "source": [
    "import pandas as pd\n",
    "import numpy as np\n",
    "from collections import Counter\n",
    "import pickle\n",
    "\n",
    "channels = ['CD45','CD45RA', 'CD19', 'CD11b', 'CD4', 'CD8', 'CD34',\n",
    "           'CD20', 'CD33', 'CD123', 'CD38', 'CD90', 'CD3']\n",
    "\n",
    "path = 'data/Levine13/40000events/'\n",
    "\n",
    "df = pd.read_csv(path + 'Levine13_1.csv.gz', sep=',', header = 0, compression = 'gzip')\n",
    "#df = df[df.cell_type != 'NotGated']\n",
    "\n",
    "\n",
    "table = pd.read_csv(path + 'Levine13dim_table.csv', sep=',', header=0, index_col=0)\n",
    "table = table.fillna(0)\n",
    "\n",
    "cts, channels = get_label(table)\n",
    "\n",
    "#X0= np.arcsinh((df[channels].values - 1.0)/5.0)\n",
    "X0= df[channels].values"
   ]
  },
  {
   "cell_type": "code",
   "execution_count": 35,
   "metadata": {
    "collapsed": true
   },
   "outputs": [],
   "source": [
    "idx2ct = [key for idx, key in enumerate(table.index)]\n",
    "#idx2ct.append('unknown')\n",
    "\n",
    "ct2idx = {key:idx for idx, key in enumerate(table.index)}\n",
    "#ct2idx['unknown'] = len(table.index)\n",
    "        \n",
    "ct_score = np.abs(table.as_matrix()).sum(axis = 1)\n",
    "\n",
    "## compute manual gated label\n",
    "y0 = np.zeros(df.cell_type.shape)\n",
    "\n",
    "for i, ct in enumerate(df.cell_type):\n",
    "    if ct in ct2idx:\n",
    "        y0[i] = ct2idx[ct]\n",
    "    #else:\n",
    "        #y0[i] = ct2idx['unknown']"
   ]
  },
  {
   "cell_type": "code",
   "execution_count": 36,
   "metadata": {
    "collapsed": false
   },
   "outputs": [],
   "source": [
    "from sklearn.metrics import accuracy_score, confusion_matrix\n",
    "import phenograph\n",
    "from sklearn.cross_validation import StratifiedKFold\n",
    "\n",
    "n_neighbor = 10\n",
    "thres = 0.5\n"
   ]
  },
  {
   "cell_type": "code",
   "execution_count": 37,
   "metadata": {
    "collapsed": false,
    "scrolled": true
   },
   "outputs": [
    {
     "name": "stderr",
     "output_type": "stream",
     "text": [
      "C:\\Users\\Administrator\\Anaconda3\\lib\\site-packages\\sklearn\\cross_validation.py:552: Warning: The least populated class in y has only 3 members, which is too few. The minimum number of labels for any class cannot be less than n_folds=5.\n",
      "  % (min_labels, self.n_folds)), Warning)\n"
     ]
    },
    {
     "name": "stdout",
     "output_type": "stream",
     "text": [
      "00 th batch\n",
      "Finding 30 nearest neighbors using minkowski metric and 'auto' algorithm\n",
      "Neighbors computed in 0.10500597953796387 seconds\n",
      "Jaccard graph constructed in 1.8391051292419434 seconds\n",
      "Wrote graph to binary file in 0.02800154685974121 seconds\n",
      "Running Louvain modularity optimization\n",
      "After 1 runs, maximum modularity is Q = 0.773612\n",
      "Louvain completed 21 runs in 1.8561060428619385 seconds\n",
      "PhenoGraph complete in 3.835219383239746 seconds\n",
      "Finding 30 nearest neighbors using minkowski metric and 'auto' algorithm\n",
      "Neighbors computed in 0.10400581359863281 seconds\n",
      "Jaccard graph constructed in 1.2230699062347412 seconds\n",
      "Wrote graph to binary file in 0.008000373840332031 seconds\n",
      "Running Louvain modularity optimization\n",
      "After 1 runs, maximum modularity is Q = 0.589755\n",
      "After 20 runs, maximum modularity is Q = 0.592644\n",
      "Louvain completed 40 runs in 3.480199098587036 seconds\n",
      "PhenoGraph complete in 4.820275545120239 seconds\n",
      "Finding 30 nearest neighbors using minkowski metric and 'auto' algorithm\n",
      "Neighbors computed in 0.21201205253601074 seconds\n",
      "Jaccard graph constructed in 2.2191269397735596 seconds\n",
      "Wrote graph to binary file in 0.2830162048339844 seconds\n",
      "Running Louvain modularity optimization\n",
      "After 1 runs, maximum modularity is Q = 0.744181\n",
      "After 10 runs, maximum modularity is Q = 0.74563\n",
      "After 15 runs, maximum modularity is Q = 0.747433\n",
      "After 20 runs, maximum modularity is Q = 0.749779\n",
      "Louvain completed 40 runs in 11.263644218444824 seconds\n",
      "PhenoGraph complete in 13.997800588607788 seconds\n",
      "Finding 30 nearest neighbors using minkowski metric and 'auto' algorithm\n",
      "Neighbors computed in 0.10300588607788086 seconds\n",
      "Jaccard graph constructed in 1.1730670928955078 seconds\n",
      "Wrote graph to binary file in 0.01500082015991211 seconds\n",
      "Running Louvain modularity optimization\n",
      "After 1 runs, maximum modularity is Q = 0.498629\n",
      "After 4 runs, maximum modularity is Q = 0.503917\n",
      "After 6 runs, maximum modularity is Q = 0.507039\n",
      "Louvain completed 26 runs in 2.6751527786254883 seconds\n",
      "PhenoGraph complete in 3.9712271690368652 seconds\n",
      "Finding 30 nearest neighbors using minkowski metric and 'auto' algorithm\n",
      "Neighbors computed in 0.6510372161865234 seconds\n",
      "Jaccard graph constructed in 2.0871193408966064 seconds\n",
      "Wrote graph to binary file in 0.6380364894866943 seconds\n",
      "Running Louvain modularity optimization\n",
      "After 1 runs, maximum modularity is Q = 0.786989\n",
      "After 7 runs, maximum modularity is Q = 0.788201\n",
      "Louvain completed 27 runs in 10.518601417541504 seconds\n",
      "PhenoGraph complete in 13.927796602249146 seconds\n",
      "Finding 30 nearest neighbors using minkowski metric and 'auto' algorithm\n",
      "Neighbors computed in 0.10400581359863281 seconds\n",
      "Jaccard graph constructed in 1.2210698127746582 seconds\n",
      "Wrote graph to binary file in 0.02500128746032715 seconds\n",
      "Running Louvain modularity optimization\n",
      "After 1 runs, maximum modularity is Q = 0.509216\n",
      "Louvain completed 21 runs in 1.8721070289611816 seconds\n",
      "PhenoGraph complete in 3.2611865997314453 seconds\n",
      "Finding 30 nearest neighbors using minkowski metric and 'auto' algorithm\n",
      "Neighbors computed in 0.10300588607788086 seconds\n",
      "Jaccard graph constructed in 1.1780674457550049 seconds\n",
      "Wrote graph to binary file in 0.021001338958740234 seconds\n",
      "Running Louvain modularity optimization\n",
      "After 1 runs, maximum modularity is Q = 0.756305\n",
      "After 2 runs, maximum modularity is Q = 0.758349\n",
      "Louvain completed 22 runs in 3.2721872329711914 seconds\n",
      "PhenoGraph complete in 4.578261852264404 seconds\n",
      "Finding 30 nearest neighbors using minkowski metric and 'auto' algorithm\n",
      "Neighbors computed in 0.10400605201721191 seconds\n",
      "Jaccard graph constructed in 1.2850735187530518 seconds\n",
      "Wrote graph to binary file in 0.014000892639160156 seconds\n",
      "Running Louvain modularity optimization\n",
      "After 1 runs, maximum modularity is Q = 0.541064\n",
      "Louvain completed 21 runs in 1.7721011638641357 seconds\n",
      "PhenoGraph complete in 3.1811821460723877 seconds\n",
      "Finding 30 nearest neighbors using minkowski metric and 'auto' algorithm\n",
      "Neighbors computed in 0.10700607299804688 seconds\n",
      "Jaccard graph constructed in 1.3290760517120361 seconds\n",
      "Wrote graph to binary file in 0.1630094051361084 seconds\n",
      "Running Louvain modularity optimization\n",
      "After 1 runs, maximum modularity is Q = 0.580457\n",
      "After 5 runs, maximum modularity is Q = 0.581724\n",
      "After 19 runs, maximum modularity is Q = 0.584772\n",
      "Louvain completed 39 runs in 8.170467376708984 seconds\n",
      "PhenoGraph complete in 9.776559114456177 seconds\n",
      "Finding 30 nearest neighbors using minkowski metric and 'auto' algorithm\n",
      "Neighbors computed in 0.10700607299804688 seconds\n",
      "Jaccard graph constructed in 1.3400764465332031 seconds\n",
      "Wrote graph to binary file in 0.12900710105895996 seconds\n",
      "Running Louvain modularity optimization\n",
      "After 1 runs, maximum modularity is Q = 0.590746\n",
      "After 2 runs, maximum modularity is Q = 0.59919\n",
      "Louvain completed 22 runs in 5.732327938079834 seconds\n",
      "PhenoGraph complete in 7.317418336868286 seconds\n",
      "Finding 30 nearest neighbors using minkowski metric and 'auto' algorithm\n",
      "Neighbors computed in 0.34201955795288086 seconds\n",
      "Jaccard graph constructed in 1.7430996894836426 seconds\n",
      "Wrote graph to binary file in 0.2760159969329834 seconds\n",
      "Running Louvain modularity optimization\n",
      "After 1 runs, maximum modularity is Q = 0.597609\n",
      "After 2 runs, maximum modularity is Q = 0.604711\n",
      "After 3 runs, maximum modularity is Q = 0.607443\n",
      "After 13 runs, maximum modularity is Q = 0.608926\n",
      "After 20 runs, maximum modularity is Q = 0.612474\n",
      "Louvain completed 40 runs in 10.73561406135559 seconds\n",
      "PhenoGraph complete in 13.116750240325928 seconds\n",
      "Finding 30 nearest neighbors using minkowski metric and 'auto' algorithm\n",
      "Neighbors computed in 0.20901203155517578 seconds\n",
      "Jaccard graph constructed in 1.4110808372497559 seconds\n",
      "Wrote graph to binary file in 0.23501348495483398 seconds\n",
      "Running Louvain modularity optimization\n",
      "After 1 runs, maximum modularity is Q = 0.553405\n",
      "After 2 runs, maximum modularity is Q = 0.556001\n",
      "After 5 runs, maximum modularity is Q = 0.557739\n",
      "Louvain completed 25 runs in 4.471255779266357 seconds\n",
      "PhenoGraph complete in 6.34436297416687 seconds\n",
      "Finding 30 nearest neighbors using minkowski metric and 'auto' algorithm\n",
      "Neighbors computed in 0.10500597953796387 seconds\n",
      "Jaccard graph constructed in 1.897108554840088 seconds\n",
      "Wrote graph to binary file in 0.034002065658569336 seconds\n",
      "Running Louvain modularity optimization\n",
      "After 1 runs, maximum modularity is Q = 0.579394\n",
      "After 15 runs, maximum modularity is Q = 0.581217\n",
      "Louvain completed 35 runs in 3.2601864337921143 seconds\n",
      "PhenoGraph complete in 5.304303407669067 seconds\n",
      "Finding 30 nearest neighbors using minkowski metric and 'auto' algorithm\n",
      "Neighbors computed in 0.20801186561584473 seconds\n",
      "Jaccard graph constructed in 2.0931196212768555 seconds\n",
      "Wrote graph to binary file in 0.23001313209533691 seconds\n",
      "Running Louvain modularity optimization\n",
      "After 1 runs, maximum modularity is Q = 0.849488\n",
      "Louvain completed 21 runs in 4.46625542640686 seconds\n",
      "PhenoGraph complete in 7.014401197433472 seconds\n",
      "Finding 30 nearest neighbors using minkowski metric and 'auto' algorithm\n",
      "Neighbors computed in 0.10600614547729492 seconds\n",
      "Jaccard graph constructed in 1.429081678390503 seconds\n",
      "Wrote graph to binary file in 0.15100860595703125 seconds\n",
      "Running Louvain modularity optimization\n",
      "After 1 runs, maximum modularity is Q = 0.59985\n",
      "After 2 runs, maximum modularity is Q = 0.602885\n",
      "After 6 runs, maximum modularity is Q = 0.604381\n",
      "Louvain completed 26 runs in 4.556260585784912 seconds\n",
      "PhenoGraph complete in 6.256357908248901 seconds\n",
      "Finding 30 nearest neighbors using minkowski metric and 'auto' algorithm\n",
      "Neighbors computed in 0.21801257133483887 seconds\n",
      "Jaccard graph constructed in 2.141122579574585 seconds\n",
      "Wrote graph to binary file in 0.19901132583618164 seconds\n",
      "Running Louvain modularity optimization\n",
      "After 1 runs, maximum modularity is Q = 0.574331\n",
      "After 5 runs, maximum modularity is Q = 0.576448\n",
      "After 6 runs, maximum modularity is Q = 0.579395\n",
      "Louvain completed 26 runs in 7.050403118133545 seconds\n",
      "PhenoGraph complete in 9.624550580978394 seconds\n",
      "Finding 30 nearest neighbors using minkowski metric and 'auto' algorithm\n",
      "Neighbors computed in 0.10800600051879883 seconds\n",
      "Jaccard graph constructed in 1.31807541847229 seconds\n",
      "Wrote graph to binary file in 0.1480085849761963 seconds\n",
      "Running Louvain modularity optimization\n",
      "After 1 runs, maximum modularity is Q = 0.625684\n",
      "After 2 runs, maximum modularity is Q = 0.627544\n",
      "After 3 runs, maximum modularity is Q = 0.633219\n",
      "After 4 runs, maximum modularity is Q = 0.6383\n",
      "Louvain completed 24 runs in 4.7272703647613525 seconds\n",
      "PhenoGraph complete in 6.314361095428467 seconds\n",
      "Finding 30 nearest neighbors using minkowski metric and 'auto' algorithm\n",
      "Neighbors computed in 0.10300588607788086 seconds\n",
      "Jaccard graph constructed in 1.17506742477417 seconds\n",
      "Wrote graph to binary file in 0.016000747680664062 seconds\n",
      "Running Louvain modularity optimization\n",
      "After 1 runs, maximum modularity is Q = 0.676546\n",
      "After 2 runs, maximum modularity is Q = 0.678127\n",
      "After 6 runs, maximum modularity is Q = 0.67922\n",
      "Louvain completed 26 runs in 3.804217576980591 seconds\n",
      "PhenoGraph complete in 5.104291915893555 seconds\n",
      "Finding 30 nearest neighbors using minkowski metric and 'auto' algorithm\n",
      "Neighbors computed in 0.10300588607788086 seconds\n",
      "Jaccard graph constructed in 1.1340649127960205 seconds\n",
      "Wrote graph to binary file in 0.016000986099243164 seconds\n",
      "Running Louvain modularity optimization\n",
      "After 1 runs, maximum modularity is Q = 0.491586\n",
      "After 18 runs, maximum modularity is Q = 0.49327\n",
      "Louvain completed 38 runs in 3.1911826133728027 seconds\n",
      "PhenoGraph complete in 4.448254585266113 seconds\n",
      "Finding 30 nearest neighbors using minkowski metric and 'auto' algorithm\n",
      "Neighbors computed in 0.21601223945617676 seconds\n",
      "Jaccard graph constructed in 1.6870965957641602 seconds\n",
      "Wrote graph to binary file in 0.2740156650543213 seconds\n",
      "Running Louvain modularity optimization\n",
      "After 1 runs, maximum modularity is Q = 0.746287\n",
      "After 8 runs, maximum modularity is Q = 0.74849\n",
      "Louvain completed 28 runs in 7.026401996612549 seconds\n",
      "PhenoGraph complete in 9.223527431488037 seconds\n",
      "Finding 30 nearest neighbors using minkowski metric and 'auto' algorithm\n",
      "Neighbors computed in 0.10400581359863281 seconds\n",
      "Jaccard graph constructed in 1.2250699996948242 seconds\n",
      "Wrote graph to binary file in 0.0070002079010009766 seconds\n",
      "Running Louvain modularity optimization\n",
      "After 1 runs, maximum modularity is Q = 0.497273\n",
      "Louvain completed 21 runs in 2.287130832672119 seconds\n",
      "PhenoGraph complete in 3.6282074451446533 seconds\n",
      "Finding 30 nearest neighbors using minkowski metric and 'auto' algorithm\n",
      "Neighbors computed in 0.10500597953796387 seconds\n",
      "Jaccard graph constructed in 1.2400708198547363 seconds\n",
      "Wrote graph to binary file in 0.026001453399658203 seconds\n",
      "Running Louvain modularity optimization\n",
      "After 1 runs, maximum modularity is Q = 0.561355\n",
      "After 5 runs, maximum modularity is Q = 0.563611\n",
      "After 11 runs, maximum modularity is Q = 0.564668\n",
      "Louvain completed 31 runs in 3.594205379486084 seconds\n",
      "PhenoGraph complete in 4.9702842235565186 seconds\n",
      "Finding 30 nearest neighbors using minkowski metric and 'auto' algorithm\n",
      "Neighbors computed in 2.510143518447876 seconds\n",
      "Jaccard graph constructed in 4.312246561050415 seconds\n",
      "Wrote graph to binary file in 2.139122247695923 seconds\n",
      "Running Louvain modularity optimization\n",
      "After 1 runs, maximum modularity is Q = 0.874985\n",
      "Louvain completed 21 runs in 45.33159279823303 seconds\n",
      "PhenoGraph complete in 54.4131121635437 seconds\n",
      "01 th batch\n"
     ]
    }
   ],
   "source": [
    "import time\n",
    "import scipy.io as sio \n",
    "\n",
    "skf = StratifiedKFold(y0, n_folds=5, shuffle=True, random_state=0)\n",
    "result = []\n",
    "score_final = []\n",
    "\n",
    "\n",
    "process_time = []\n",
    "c = 0\n",
    "for tr, te in skf:\n",
    "    print('%02d th batch' % c)\n",
    "    if c == 1:\n",
    "        break\n",
    "    c += 1\n",
    "    \n",
    "    X = X0.copy()\n",
    "    y_true = y0.copy()\n",
    "\n",
    "    X = X[tr, :]\n",
    "    y_true = y_true[tr]\n",
    "\n",
    "    mk_model =  compute_marker_model(pd.DataFrame(X, columns = channels), table, 0.0)\n",
    "\n",
    "    ## compute posterior probs\n",
    "    tic = time.clock()\n",
    "    score = get_score_mat(X, [], table, [], mk_model)\n",
    "    score = np.concatenate([score, 1.0 - score.max(axis = 1)[:, np.newaxis]], axis = 1)    \n",
    "\n",
    "    ## get indices     \n",
    "    ct_index = get_unique_index(X, score, table, thres)\n",
    "    \n",
    "    ## baseline - classify events    \n",
    "    y_pred_index = np.argmax(score, axis = 1)\n",
    "    \n",
    "    toc = time.clock()\n",
    "    time0 = toc - tic\n",
    "    \n",
    "    \n",
    "    \n",
    "    ## running ACDC\n",
    "    tic = time.clock()\n",
    "    res_c = get_landmarks(X, score, ct_index, idx2ct, phenograph, thres)\n",
    "\n",
    "    landmark_mat, landmark_label = output_feature_matrix(res_c, [idx2ct[i] for i in range(len(idx2ct))]) \n",
    "\n",
    "    landmark_label = np.array(landmark_label)\n",
    "\n",
    "    lp, y_pred = rm_classify(X, landmark_mat, landmark_label, n_neighbor)\n",
    "\n",
    "    process_time.append(toc-tic)\n",
    "    \n",
    "    res = phenograph.cluster(X, k=30, directed=False, prune=False, min_cluster_size=10, jaccard=True,\n",
    "                        primary_metric='euclidean', n_jobs=-1, q_tol=1e-3)\n",
    "    \n",
    "    toc = time.clock()\n",
    "    time1 = toc - tic\n",
    "    \n",
    "    \n",
    "    ## running phenograph classification\n",
    "    tic = time.clock()\n",
    "    y_pred_oracle = np.zeros_like(y_true)\n",
    "    for i in range(max(res[0])+1):\n",
    "        ic, nc = Counter(y_true[res[0] == i]).most_common(1)[0]\n",
    "        y_pred_oracle[res[0] == i] = ic\n",
    "        \n",
    "    score_final.append([accuracy_score(y_true, [ct2idx[c] for c in y_pred]), \n",
    "                    accuracy_score(y_true, y_pred_index), \n",
    "                    accuracy_score(y_true, y_pred_oracle)])\n",
    "    \n",
    "    toc = time.clock()\n",
    "    time2 = toc - tic   \n",
    "    \n",
    "    \n",
    "    result.append((y_true, y_pred, y_pred_index, y_pred_oracle))\n",
    "    process_time.append((time0, time1, time2))\n",
    "    \n",
    "    #pickle.dump(result, open('processed_file/BMMC/event_classidication_BMMC.p', 'wb'))\n",
    "    sio.savemat('processed_file/Levine13/40000events/event_classidication_l13_40k_5.mat',{'y_true':y_true,'y_pred_index':y_pred_index,'y_pred_oracle':y_pred_oracle,'X':X})"
   ]
  },
  {
   "cell_type": "code",
   "execution_count": 38,
   "metadata": {
    "collapsed": false
   },
   "outputs": [
    {
     "data": {
      "text/plain": [
       "array([ 0.65859224,  0.64265175,  0.91520285])"
      ]
     },
     "execution_count": 38,
     "metadata": {},
     "output_type": "execute_result"
    }
   ],
   "source": [
    "np.mean(score_final, axis = 0) # score of ACDC, score-based classification, phenograph classification"
   ]
  },
  {
   "cell_type": "code",
   "execution_count": 39,
   "metadata": {
    "collapsed": false
   },
   "outputs": [
    {
     "data": {
      "text/plain": [
       "[[0.65859223604425832, 0.64265174720260054, 0.91520285053447525]]"
      ]
     },
     "execution_count": 39,
     "metadata": {},
     "output_type": "execute_result"
    }
   ],
   "source": [
    "score_final"
   ]
  },
  {
   "cell_type": "code",
   "execution_count": 40,
   "metadata": {
    "collapsed": false
   },
   "outputs": [
    {
     "data": {
      "text/plain": [
       "[-1.7105967344832607e-06,\n",
       " (0.2997042378322021, 225.8038601324913, 0.029932305986903884)]"
      ]
     },
     "execution_count": 40,
     "metadata": {},
     "output_type": "execute_result"
    }
   ],
   "source": [
    "process_time"
   ]
  },
  {
   "cell_type": "code",
   "execution_count": null,
   "metadata": {
    "collapsed": false
   },
   "outputs": [],
   "source": []
  },
  {
   "cell_type": "code",
   "execution_count": null,
   "metadata": {
    "collapsed": false
   },
   "outputs": [],
   "source": []
  },
  {
   "cell_type": "code",
   "execution_count": null,
   "metadata": {
    "collapsed": true
   },
   "outputs": [],
   "source": []
  }
 ],
 "metadata": {
  "anaconda-cloud": {},
  "kernelspec": {
   "display_name": "Python [conda env:Anaconda3]",
   "language": "python",
   "name": "conda-env-Anaconda3-py"
  },
  "language_info": {
   "codemirror_mode": {
    "name": "ipython",
    "version": 3
   },
   "file_extension": ".py",
   "mimetype": "text/x-python",
   "name": "python",
   "nbconvert_exporter": "python",
   "pygments_lexer": "ipython3",
   "version": "3.5.6"
  }
 },
 "nbformat": 4,
 "nbformat_minor": 1
}
