{
 "cells": [
  {
   "cell_type": "code",
   "execution_count": 29,
   "metadata": {
    "collapsed": false
   },
   "outputs": [],
   "source": [
    "from ACDC.random_walk_classifier import * \n",
    "from ACDC.cell_type_annotation import * "
   ]
  },
  {
   "cell_type": "code",
   "execution_count": 30,
   "metadata": {
    "collapsed": false
   },
   "outputs": [],
   "source": [
    "import pandas as pd\n",
    "import numpy as np\n",
    "from collections import Counter\n",
    "\n",
    "path = 'data/Levine32/40000events/'\n",
    "df = pd.read_csv(path + 'Levine32_5.csv.gz', sep=',', header = 0, compression = 'gzip')\n",
    "\n",
    "df = df.drop(['Time', 'Cell_length', 'file_number', 'event_number', 'DNA1()',\n",
    "              'DNA2()', 'Viability', 'subject'], axis = 1)\n",
    "\n",
    "channels = [item[:item.find('(')] for item in df.columns[:-1]]\n",
    "df.columns = channels + ['cell_type']\n",
    "\n",
    "\n",
    "#df = df.loc[df['cell_type'] != 'NotDebrisSinglets']\n",
    "\n",
    "table = pd.read_csv(path + 'AML_table.csv', sep=',', header=0, index_col=0)\n",
    "table = table.fillna(0)\n",
    "\n",
    "cts, channels = get_label(table)\n",
    "\n",
    "#X0= np.arcsinh((df[channels].values - 1.0)/5.0)\n",
    "X0= df[channels].values"
   ]
  },
  {
   "cell_type": "code",
   "execution_count": 31,
   "metadata": {
    "collapsed": false
   },
   "outputs": [],
   "source": [
    "idx2ct = [key for idx, key in enumerate(table.index)]\n",
    "#idx2ct.append('unknown')\n",
    "\n",
    "ct2idx = {key:idx for idx, key in enumerate(table.index)}\n",
    "#ct2idx['unknown'] = len(table.index)\n",
    "        \n",
    "ct_score = np.abs(table.as_matrix()).sum(axis = 1)\n",
    "\n",
    "## compute manual gated label\n",
    "y0 = np.zeros(df.cell_type.shape)\n",
    "\n",
    "for i, ct in enumerate(df.cell_type):\n",
    "    if ct in ct2idx:\n",
    "        y0[i] = ct2idx[ct]\n",
    "    #else:\n",
    "        #y0[i] = ct2idx['unknown']"
   ]
  },
  {
   "cell_type": "code",
   "execution_count": 32,
   "metadata": {
    "collapsed": false
   },
   "outputs": [],
   "source": [
    "from sklearn.metrics import accuracy_score, confusion_matrix\n",
    "import phenograph\n",
    "from sklearn.cross_validation import StratifiedKFold\n",
    "import pickle\n",
    "n_neighbor = 10\n",
    "thres = 0.5\n"
   ]
  },
  {
   "cell_type": "code",
   "execution_count": 33,
   "metadata": {
    "collapsed": false
   },
   "outputs": [
    {
     "name": "stdout",
     "output_type": "stream",
     "text": [
      "00 th batch\n",
      "Finding 30 nearest neighbors using minkowski metric and 'auto' algorithm\n",
      "Neighbors computed in 0.10400605201721191 seconds\n",
      "Jaccard graph constructed in 1.8401052951812744 seconds\n",
      "Wrote graph to binary file in 0.029001712799072266 seconds\n",
      "Running Louvain modularity optimization\n",
      "After 1 runs, maximum modularity is Q = 0.632446\n",
      "After 2 runs, maximum modularity is Q = 0.634459\n",
      "After 7 runs, maximum modularity is Q = 0.63611\n",
      "Louvain completed 27 runs in 3.81021785736084 seconds\n",
      "PhenoGraph complete in 5.7893311977386475 seconds\n",
      "Finding 30 nearest neighbors using minkowski metric and 'auto' algorithm\n",
      "Neighbors computed in 0.10600614547729492 seconds\n",
      "Jaccard graph constructed in 1.8751075267791748 seconds\n",
      "Wrote graph to binary file in 0.10100579261779785 seconds\n",
      "Running Louvain modularity optimization\n",
      "After 1 runs, maximum modularity is Q = 0.600986\n",
      "After 6 runs, maximum modularity is Q = 0.604754\n",
      "Louvain completed 26 runs in 4.655266284942627 seconds\n",
      "PhenoGraph complete in 6.7473859786987305 seconds\n",
      "Finding 30 nearest neighbors using minkowski metric and 'auto' algorithm\n",
      "Neighbors computed in 0.10400605201721191 seconds\n",
      "Jaccard graph constructed in 1.4560832977294922 seconds\n",
      "Wrote graph to binary file in 0.03300189971923828 seconds\n",
      "Running Louvain modularity optimization\n",
      "After 1 runs, maximum modularity is Q = 0.454646\n",
      "After 2 runs, maximum modularity is Q = 0.462564\n",
      "After 10 runs, maximum modularity is Q = 0.467732\n",
      "Louvain completed 30 runs in 21.631237268447876 seconds\n",
      "PhenoGraph complete in 23.230328798294067 seconds\n",
      "Finding 30 nearest neighbors using minkowski metric and 'auto' algorithm\n",
      "Neighbors computed in 0.10400605201721191 seconds\n",
      "Jaccard graph constructed in 1.5090863704681396 seconds\n",
      "Wrote graph to binary file in 0.1540088653564453 seconds\n",
      "Running Louvain modularity optimization\n",
      "After 1 runs, maximum modularity is Q = 0.597258\n",
      "After 6 runs, maximum modularity is Q = 0.599282\n",
      "After 9 runs, maximum modularity is Q = 0.601778\n",
      "After 18 runs, maximum modularity is Q = 0.603394\n",
      "Louvain completed 38 runs in 6.045345783233643 seconds\n",
      "PhenoGraph complete in 7.8224475383758545 seconds\n",
      "Finding 30 nearest neighbors using minkowski metric and 'auto' algorithm\n",
      "Neighbors computed in 0.10400581359863281 seconds\n",
      "Jaccard graph constructed in 1.55008864402771 seconds\n",
      "Wrote graph to binary file in 0.018001079559326172 seconds\n",
      "Running Louvain modularity optimization\n",
      "After 1 runs, maximum modularity is Q = 0.445329\n",
      "After 8 runs, maximum modularity is Q = 0.448382\n",
      "Louvain completed 28 runs in 3.34619140625 seconds\n",
      "PhenoGraph complete in 5.023287296295166 seconds\n",
      "Finding 30 nearest neighbors using minkowski metric and 'auto' algorithm\n",
      "Neighbors computed in 0.10400605201721191 seconds\n",
      "Jaccard graph constructed in 1.548088550567627 seconds\n",
      "Wrote graph to binary file in 0.041002511978149414 seconds\n",
      "Running Louvain modularity optimization\n",
      "After 1 runs, maximum modularity is Q = 0.647141\n",
      "After 2 runs, maximum modularity is Q = 0.652417\n",
      "After 13 runs, maximum modularity is Q = 0.653885\n",
      "After 17 runs, maximum modularity is Q = 0.655973\n",
      "Louvain completed 37 runs in 6.507372140884399 seconds\n",
      "PhenoGraph complete in 8.209469556808472 seconds\n",
      "Finding 30 nearest neighbors using minkowski metric and 'auto' algorithm\n",
      "Neighbors computed in 0.1020057201385498 seconds\n",
      "Jaccard graph constructed in 1.2950739860534668 seconds\n",
      "Wrote graph to binary file in 0.00500035285949707 seconds\n",
      "Running Louvain modularity optimization\n",
      "After 1 runs, maximum modularity is Q = 0.281473\n",
      "Louvain completed 21 runs in 2.0771188735961914 seconds\n",
      "PhenoGraph complete in 3.481199026107788 seconds\n",
      "Finding 30 nearest neighbors using minkowski metric and 'auto' algorithm\n",
      "Neighbors computed in 0.10400581359863281 seconds\n",
      "Jaccard graph constructed in 1.4150807857513428 seconds\n",
      "Wrote graph to binary file in 0.026001453399658203 seconds\n",
      "Running Louvain modularity optimization\n",
      "After 1 runs, maximum modularity is Q = 0.517677\n",
      "Louvain completed 21 runs in 2.4351391792297363 seconds\n",
      "PhenoGraph complete in 3.9852278232574463 seconds\n",
      "Finding 30 nearest neighbors using minkowski metric and 'auto' algorithm\n",
      "Neighbors computed in 0.21401214599609375 seconds\n",
      "Jaccard graph constructed in 1.7140979766845703 seconds\n",
      "Wrote graph to binary file in 0.20101165771484375 seconds\n",
      "Running Louvain modularity optimization\n",
      "After 1 runs, maximum modularity is Q = 0.599177\n",
      "Louvain completed 21 runs in 4.130236387252808 seconds\n",
      "PhenoGraph complete in 6.272358655929565 seconds\n",
      "Finding 30 nearest neighbors using minkowski metric and 'auto' algorithm\n",
      "Neighbors computed in 0.1020057201385498 seconds\n",
      "Jaccard graph constructed in 1.299074411392212 seconds\n",
      "Wrote graph to binary file in 0.007000446319580078 seconds\n",
      "Running Louvain modularity optimization\n",
      "After 1 runs, maximum modularity is Q = 0.563447\n",
      "After 12 runs, maximum modularity is Q = 0.566023\n",
      "Louvain completed 32 runs in 3.439196825027466 seconds\n",
      "PhenoGraph complete in 4.852277517318726 seconds\n",
      "Finding 30 nearest neighbors using minkowski metric and 'auto' algorithm\n",
      "Neighbors computed in 0.10400581359863281 seconds\n",
      "Jaccard graph constructed in 1.3450767993927002 seconds\n",
      "Wrote graph to binary file in 0.0740041732788086 seconds\n",
      "Running Louvain modularity optimization\n",
      "After 1 runs, maximum modularity is Q = 0.574075\n",
      "Louvain completed 21 runs in 2.3571348190307617 seconds\n",
      "PhenoGraph complete in 3.8882222175598145 seconds\n",
      "Finding 30 nearest neighbors using minkowski metric and 'auto' algorithm\n",
      "Neighbors computed in 0.10400605201721191 seconds\n",
      "Jaccard graph constructed in 1.3780786991119385 seconds\n",
      "Wrote graph to binary file in 0.0630035400390625 seconds\n",
      "Running Louvain modularity optimization\n",
      "After 1 runs, maximum modularity is Q = 0.60501\n",
      "After 4 runs, maximum modularity is Q = 0.606829\n",
      "Louvain completed 24 runs in 3.2821877002716064 seconds\n",
      "PhenoGraph complete in 4.8422770500183105 seconds\n",
      "Finding 30 nearest neighbors using minkowski metric and 'auto' algorithm\n",
      "Neighbors computed in 0.10300588607788086 seconds\n",
      "Jaccard graph constructed in 1.2880735397338867 seconds\n",
      "Wrote graph to binary file in 0.013000726699829102 seconds\n",
      "Running Louvain modularity optimization\n",
      "After 1 runs, maximum modularity is Q = 0.496968\n",
      "After 2 runs, maximum modularity is Q = 0.500762\n",
      "After 3 runs, maximum modularity is Q = 0.503944\n",
      "After 6 runs, maximum modularity is Q = 0.507199\n",
      "Louvain completed 26 runs in 3.5322020053863525 seconds\n",
      "PhenoGraph complete in 4.940282583236694 seconds\n",
      "Finding 30 nearest neighbors using minkowski metric and 'auto' algorithm\n",
      "Neighbors computed in 8.268472909927368 seconds\n",
      "Jaccard graph constructed in 4.417252540588379 seconds\n",
      "Wrote graph to binary file in 2.246128559112549 seconds\n",
      "Running Louvain modularity optimization\n",
      "After 1 runs, maximum modularity is Q = 0.867543\n",
      "After 3 runs, maximum modularity is Q = 0.868566\n",
      "Louvain completed 23 runs in 42.79744791984558 seconds\n",
      "PhenoGraph complete in 57.84530854225159 seconds\n",
      "01 th batch\n"
     ]
    }
   ],
   "source": [
    "import time\n",
    "import scipy.io as sio \n",
    "\n",
    "skf = StratifiedKFold(y0, n_folds=5, shuffle=True, random_state=0)\n",
    "result = []\n",
    "score_final = []\n",
    "\n",
    "\n",
    "process_time = []\n",
    "c = 0\n",
    "for tr, te in skf:\n",
    "    print('%02d th batch' % c)\n",
    "    if c == 1:\n",
    "        break\n",
    "    c += 1\n",
    "    \n",
    "    X = X0.copy()\n",
    "    y_true = y0.copy()\n",
    "\n",
    "    X = X[tr, :]\n",
    "    y_true = y_true[tr]\n",
    "\n",
    "    mk_model =  compute_marker_model(pd.DataFrame(X, columns = channels), table, 0.0)\n",
    "\n",
    "    ## compute posterior probs\n",
    "    tic = time.clock()\n",
    "    score = get_score_mat(X, [], table, [], mk_model)\n",
    "    score = np.concatenate([score, 1.0 - score.max(axis = 1)[:, np.newaxis]], axis = 1)    \n",
    "\n",
    "    ## get indices     \n",
    "    ct_index = get_unique_index(X, score, table, thres)\n",
    "    \n",
    "    ## baseline - classify events    \n",
    "    y_pred_index = np.argmax(score, axis = 1)\n",
    "    \n",
    "    toc = time.clock()\n",
    "    time0 = toc - tic\n",
    "    \n",
    "    \n",
    "    \n",
    "    ## running ACDC\n",
    "    tic = time.clock()\n",
    "    res_c = get_landmarks(X, score, ct_index, idx2ct, phenograph, thres)\n",
    "\n",
    "    landmark_mat, landmark_label = output_feature_matrix(res_c, [idx2ct[i] for i in range(len(idx2ct))]) \n",
    "\n",
    "    landmark_label = np.array(landmark_label)\n",
    "\n",
    "    lp, y_pred = rm_classify(X, landmark_mat, landmark_label, n_neighbor)\n",
    "\n",
    "    process_time.append(toc-tic)\n",
    "    \n",
    "    res = phenograph.cluster(X, k=30, directed=False, prune=False, min_cluster_size=10, jaccard=True,\n",
    "                        primary_metric='euclidean', n_jobs=-1, q_tol=1e-3)\n",
    "    \n",
    "    toc = time.clock()\n",
    "    time1 = toc - tic\n",
    "    \n",
    "    \n",
    "    ## running phenograph classification\n",
    "    tic = time.clock()\n",
    "    y_pred_oracle = np.zeros_like(y_true)\n",
    "    for i in range(max(res[0])+1):\n",
    "        ic, nc = Counter(y_true[res[0] == i]).most_common(1)[0]\n",
    "        y_pred_oracle[res[0] == i] = ic\n",
    "        \n",
    "    score_final.append([accuracy_score(y_true, [ct2idx[c] for c in y_pred]), \n",
    "                    accuracy_score(y_true, y_pred_index), \n",
    "                    accuracy_score(y_true, y_pred_oracle)])\n",
    "    \n",
    "    toc = time.clock()\n",
    "    time2 = toc - tic   \n",
    "    \n",
    "    \n",
    "    result.append((y_true, y_pred, y_pred_index, y_pred_oracle))\n",
    "    process_time.append((time0, time1, time2))\n",
    "    \n",
    "    #pickle.dump(result, open('processed_file/AML/event_classidication_AML.p', 'wb'))\n",
    "    sio.savemat('processed_file/Levine32/40000events/event_classidication_Levine32_5.mat',{'y_true':y_true,'y_pred_index':y_pred_index,'y_pred_oracle':y_pred_oracle,'X':X})"
   ]
  },
  {
   "cell_type": "code",
   "execution_count": 34,
   "metadata": {
    "collapsed": false
   },
   "outputs": [
    {
     "data": {
      "text/plain": [
       "array([ 0.22378824,  0.05056408,  0.99484359])"
      ]
     },
     "execution_count": 34,
     "metadata": {},
     "output_type": "execute_result"
    }
   ],
   "source": [
    "np.mean(score_final, axis = 0) # score of ACDC, score-based classification, phenograph classification"
   ]
  },
  {
   "cell_type": "code",
   "execution_count": 35,
   "metadata": {
    "collapsed": false
   },
   "outputs": [
    {
     "data": {
      "text/plain": [
       "[-2.2807760160503676e-06,\n",
       " (0.34848975560908, 211.36753081471034, 0.027091628468269846)]"
      ]
     },
     "execution_count": 35,
     "metadata": {},
     "output_type": "execute_result"
    }
   ],
   "source": [
    "process_time"
   ]
  },
  {
   "cell_type": "code",
   "execution_count": null,
   "metadata": {
    "collapsed": false
   },
   "outputs": [],
   "source": []
  },
  {
   "cell_type": "code",
   "execution_count": null,
   "metadata": {
    "collapsed": false
   },
   "outputs": [],
   "source": []
  },
  {
   "cell_type": "code",
   "execution_count": null,
   "metadata": {
    "collapsed": true
   },
   "outputs": [],
   "source": []
  }
 ],
 "metadata": {
  "anaconda-cloud": {},
  "kernelspec": {
   "display_name": "Python [conda env:Anaconda3]",
   "language": "python",
   "name": "conda-env-Anaconda3-py"
  },
  "language_info": {
   "codemirror_mode": {
    "name": "ipython",
    "version": 3
   },
   "file_extension": ".py",
   "mimetype": "text/x-python",
   "name": "python",
   "nbconvert_exporter": "python",
   "pygments_lexer": "ipython3",
   "version": "3.5.6"
  }
 },
 "nbformat": 4,
 "nbformat_minor": 0
}
