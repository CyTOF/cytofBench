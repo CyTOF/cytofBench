{
 "cells": [
  {
   "cell_type": "code",
   "execution_count": 10,
   "metadata": {
    "collapsed": true
   },
   "outputs": [],
   "source": [
    "from ACDC.random_walk_classifier import * \n",
    "from ACDC.cell_type_annotation import * "
   ]
  },
  {
   "cell_type": "code",
   "execution_count": 11,
   "metadata": {
    "collapsed": false
   },
   "outputs": [],
   "source": [
    "import pandas as pd\n",
    "import numpy as np\n",
    "from collections import Counter\n",
    "import pickle\n",
    "\n",
    "channels = ['Y89Di','Pr141Di','Nd143Di','Nd144Di','Nd145Di','Nd146Di','Nd148Di','Sm149Di','Eu151Di',\n",
    "            'Gd155Di','Gd160Di','Dy161Di','Dy163Di','Ho165Di','Er167Di','Er168Di','Tm169Di','Er170Di','Yb172Di']\n",
    "\n",
    "path = 'data/private13class_proportion/colon_20k/'\n",
    "\n",
    "df = pd.read_csv(path + 'colon_20k_1.csv.gz', sep=',', header = 0, compression = 'gzip')\n",
    "#df = df[df.cell_type != 'NotGated']\n",
    "\n",
    "\n",
    "table = pd.read_csv(path + 'private_wrongtable.csv', sep=',', header=0, index_col=0)\n",
    "table = table.fillna(0)\n",
    "\n",
    "cts, channels = get_label(table)\n",
    "\n",
    "#X0= np.arcsinh((df[channels].values - 1.0)/5.0)\n",
    "X0= df[channels].values"
   ]
  },
  {
   "cell_type": "code",
   "execution_count": 12,
   "metadata": {
    "collapsed": false
   },
   "outputs": [],
   "source": [
    "idx2ct = [key for idx, key in enumerate(table.index)]\n",
    "#idx2ct.append('unknown')\n",
    "\n",
    "ct2idx = {key:idx for idx, key in enumerate(table.index)}\n",
    "#ct2idx['unknown'] = len(table.index)\n",
    "        \n",
    "ct_score = np.abs(table.as_matrix()).sum(axis = 1)\n",
    "\n",
    "## compute manual gated label\n",
    "y0 = np.zeros(df.cell_type.shape)\n",
    "\n",
    "for i, ct in enumerate(df.cell_type):\n",
    "    if ct in ct2idx:\n",
    "        y0[i] = ct2idx[ct]\n",
    "    #else:\n",
    "        #y0[i] = ct2idx['unknown']"
   ]
  },
  {
   "cell_type": "code",
   "execution_count": 13,
   "metadata": {
    "collapsed": false
   },
   "outputs": [],
   "source": [
    "from sklearn.metrics import accuracy_score, confusion_matrix\n",
    "import phenograph\n",
    "from sklearn.cross_validation import StratifiedKFold\n",
    "\n",
    "n_neighbor = 10\n",
    "thres = 0.5\n"
   ]
  },
  {
   "cell_type": "code",
   "execution_count": 14,
   "metadata": {
    "collapsed": false,
    "scrolled": true
   },
   "outputs": [
    {
     "name": "stdout",
     "output_type": "stream",
     "text": [
      "00 th batch\n",
      "Finding 30 nearest neighbors using minkowski metric and 'auto' algorithm\n",
      "Neighbors computed in 0.10300588607788086 seconds\n",
      "Jaccard graph constructed in 1.2270703315734863 seconds\n",
      "Wrote graph to binary file in 0.026001691818237305 seconds\n",
      "Running Louvain modularity optimization\n",
      "After 1 runs, maximum modularity is Q = 0.669607\n",
      "After 2 runs, maximum modularity is Q = 0.675995\n",
      "Louvain completed 22 runs in 6.272358655929565 seconds\n",
      "PhenoGraph complete in 7.63443660736084 seconds\n",
      "Finding 30 nearest neighbors using minkowski metric and 'auto' algorithm\n",
      "Neighbors computed in 0.10400605201721191 seconds\n",
      "Jaccard graph constructed in 1.452082872390747 seconds\n",
      "Wrote graph to binary file in 0.11500668525695801 seconds\n",
      "Running Louvain modularity optimization\n",
      "After 1 runs, maximum modularity is Q = 0.614231\n",
      "Louvain completed 21 runs in 1.810103416442871 seconds\n",
      "PhenoGraph complete in 3.489199638366699 seconds\n",
      "Finding 30 nearest neighbors using minkowski metric and 'auto' algorithm\n",
      "Neighbors computed in 0.10400605201721191 seconds\n",
      "Jaccard graph constructed in 1.1752221584320068 seconds\n",
      "Wrote graph to binary file in 0.0 seconds\n",
      "Running Louvain modularity optimization\n",
      "After 1 runs, maximum modularity is Q = 0.281649\n",
      "Louvain completed 21 runs in 2.3450043201446533 seconds\n",
      "PhenoGraph complete in 3.626232624053955 seconds\n",
      "Finding 30 nearest neighbors using minkowski metric and 'auto' algorithm\n",
      "Neighbors computed in 0.11170005798339844 seconds\n",
      "Jaccard graph constructed in 1.5291216373443604 seconds\n",
      "Wrote graph to binary file in 0.015600204467773438 seconds\n",
      "Running Louvain modularity optimization\n",
      "After 1 runs, maximum modularity is Q = 0.543673\n",
      "Louvain completed 21 runs in 2.2720038890838623 seconds\n",
      "PhenoGraph complete in 3.9284257888793945 seconds\n",
      "Finding 30 nearest neighbors using minkowski metric and 'auto' algorithm\n",
      "Neighbors computed in 1.5625028610229492 seconds\n",
      "Jaccard graph constructed in 2.716904878616333 seconds\n",
      "Wrote graph to binary file in 0.9516017436981201 seconds\n",
      "Running Louvain modularity optimization\n",
      "After 1 runs, maximum modularity is Q = 0.852738\n",
      "After 2 runs, maximum modularity is Q = 0.854857\n",
      "After 7 runs, maximum modularity is Q = 0.855864\n",
      "Louvain completed 27 runs in 18.76123309135437 seconds\n",
      "PhenoGraph complete in 24.041542530059814 seconds\n",
      "01 th batch\n"
     ]
    }
   ],
   "source": [
    "import time\n",
    "import scipy.io as sio \n",
    "\n",
    "skf = StratifiedKFold(y0, n_folds=5, shuffle=True, random_state=0)\n",
    "result = []\n",
    "score_final = []\n",
    "\n",
    "\n",
    "process_time = []\n",
    "c = 0\n",
    "for tr, te in skf:\n",
    "    print('%02d th batch' % c)\n",
    "    if c == 1:\n",
    "        break\n",
    "    c += 1\n",
    "    \n",
    "    X = X0.copy()\n",
    "    y_true = y0.copy()\n",
    "\n",
    "    X = X[tr, :]\n",
    "    y_true = y_true[tr]\n",
    "\n",
    "    mk_model =  compute_marker_model(pd.DataFrame(X, columns = channels), table, 0.0)\n",
    "\n",
    "    ## compute posterior probs\n",
    "    tic = time.clock()\n",
    "    score = get_score_mat(X, [], table, [], mk_model)\n",
    "    score = np.concatenate([score, 1.0 - score.max(axis = 1)[:, np.newaxis]], axis = 1)    \n",
    "\n",
    "    ## get indices     \n",
    "    ct_index = get_unique_index(X, score, table, thres)\n",
    "    \n",
    "    ## baseline - classify events    \n",
    "    y_pred_index = np.argmax(score, axis = 1)\n",
    "    \n",
    "    toc = time.clock()\n",
    "    time0 = toc - tic\n",
    "    \n",
    "    \n",
    "    \n",
    "    ## running ACDC\n",
    "    tic = time.clock()\n",
    "    res_c = get_landmarks(X, score, ct_index, idx2ct, phenograph, thres)\n",
    "\n",
    "    landmark_mat, landmark_label = output_feature_matrix(res_c, [idx2ct[i] for i in range(len(idx2ct))]) \n",
    "\n",
    "    landmark_label = np.array(landmark_label)\n",
    "\n",
    "    lp, y_pred = rm_classify(X, landmark_mat, landmark_label, n_neighbor)\n",
    "\n",
    "    process_time.append(toc-tic)\n",
    "    \n",
    "    res = phenograph.cluster(X, k=30, directed=False, prune=False, min_cluster_size=10, jaccard=True,\n",
    "                        primary_metric='euclidean', n_jobs=-1, q_tol=1e-3)\n",
    "    \n",
    "    toc = time.clock()\n",
    "    time1 = toc - tic\n",
    "    \n",
    "    \n",
    "    ## running phenograph classification\n",
    "    tic = time.clock()\n",
    "    y_pred_oracle = np.zeros_like(y_true)\n",
    "    for i in range(max(res[0])+1):\n",
    "        ic, nc = Counter(y_true[res[0] == i]).most_common(1)[0]\n",
    "        y_pred_oracle[res[0] == i] = ic\n",
    "        \n",
    "    score_final.append([accuracy_score(y_true, [ct2idx[c] for c in y_pred]), \n",
    "                    accuracy_score(y_true, y_pred_index), \n",
    "                    accuracy_score(y_true, y_pred_oracle)])\n",
    "    \n",
    "    toc = time.clock()\n",
    "    time2 = toc - tic   \n",
    "    \n",
    "    \n",
    "    result.append((y_true, y_pred, y_pred_index, y_pred_oracle))\n",
    "    process_time.append((time0, time1, time2))\n",
    "    \n",
    "    #pickle.dump(result, open('processed_file/BMMC/event_classidication_BMMC.p', 'wb'))\n",
    "    sio.savemat('processed_file/private13class/wrong20/event_classidication_private_1.mat',{'y_true':y_true,'y_pred_index':y_pred_index,'y_pred_oracle':y_pred_oracle,'X':X})"
   ]
  },
  {
   "cell_type": "code",
   "execution_count": 15,
   "metadata": {
    "collapsed": false
   },
   "outputs": [
    {
     "data": {
      "text/plain": [
       "array([ 0.10859644,  0.01250391,  0.73547984])"
      ]
     },
     "execution_count": 15,
     "metadata": {},
     "output_type": "execute_result"
    }
   ],
   "source": [
    "np.mean(score_final, axis = 0) # score of ACDC, score-based classification, phenograph classification"
   ]
  },
  {
   "cell_type": "code",
   "execution_count": 16,
   "metadata": {
    "collapsed": false
   },
   "outputs": [
    {
     "data": {
      "text/plain": [
       "[[0.10859643638637075, 0.012503907471084715, 0.73547983744920287]]"
      ]
     },
     "execution_count": 16,
     "metadata": {},
     "output_type": "execute_result"
    }
   ],
   "source": [
    "score_final"
   ]
  },
  {
   "cell_type": "code",
   "execution_count": 17,
   "metadata": {
    "collapsed": false
   },
   "outputs": [
    {
     "data": {
      "text/plain": [
       "[-1.1403819826227846e-06,\n",
       " (0.1317286449952917, 51.22575769109153, 0.01354517066806693)]"
      ]
     },
     "execution_count": 17,
     "metadata": {},
     "output_type": "execute_result"
    }
   ],
   "source": [
    "process_time"
   ]
  },
  {
   "cell_type": "code",
   "execution_count": null,
   "metadata": {
    "collapsed": false
   },
   "outputs": [],
   "source": []
  },
  {
   "cell_type": "code",
   "execution_count": null,
   "metadata": {
    "collapsed": false
   },
   "outputs": [],
   "source": []
  },
  {
   "cell_type": "code",
   "execution_count": null,
   "metadata": {
    "collapsed": true
   },
   "outputs": [],
   "source": []
  }
 ],
 "metadata": {
  "anaconda-cloud": {},
  "kernelspec": {
   "display_name": "Python [conda env:Anaconda3]",
   "language": "python",
   "name": "conda-env-Anaconda3-py"
  },
  "language_info": {
   "codemirror_mode": {
    "name": "ipython",
    "version": 3
   },
   "file_extension": ".py",
   "mimetype": "text/x-python",
   "name": "python",
   "nbconvert_exporter": "python",
   "pygments_lexer": "ipython3",
   "version": "3.5.6"
  }
 },
 "nbformat": 4,
 "nbformat_minor": 1
}
